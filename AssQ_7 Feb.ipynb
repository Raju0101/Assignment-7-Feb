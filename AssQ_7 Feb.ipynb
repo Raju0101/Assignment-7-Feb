{
 "cells": [
  {
   "cell_type": "code",
   "execution_count": null,
   "id": "c65c76e9-5fe7-480a-80ef-87b8e4e6165d",
   "metadata": {},
   "outputs": [],
   "source": []
  },
  {
   "cell_type": "code",
   "execution_count": null,
   "id": "569dcc3e-a0ef-42e6-9e0f-f695bd2a40b5",
   "metadata": {},
   "outputs": [],
   "source": [
    "# Q.(2.3):  Sort a list of tuples having fruit names and their quantity. [(\"mango\",99),(\"orange\",80), (\"grapes\", 1000)-"
   ]
  },
  {
   "cell_type": "code",
   "execution_count": 7,
   "id": "83389f7f-fd22-4fb0-a379-3d765ad40b7b",
   "metadata": {},
   "outputs": [],
   "source": [
    "l =  [(\"mango\",99),(\"orange\",80), (\"grapes\", 1000)]"
   ]
  },
  {
   "cell_type": "code",
   "execution_count": 12,
   "id": "11db457d-ed1d-4247-a0cd-e190ab7f98b4",
   "metadata": {},
   "outputs": [
    {
     "name": "stdout",
     "output_type": "stream",
     "text": [
      "[('orange', 80), ('mango', 99), ('grapes', 1000)]\n"
     ]
    }
   ],
   "source": [
    "l.sort(key = lambda x : x[1])\n",
    "print(l)"
   ]
  },
  {
   "cell_type": "code",
   "execution_count": null,
   "id": "24e4c7a8-751f-462d-9e0f-2857e4cb062a",
   "metadata": {},
   "outputs": [],
   "source": [
    "# Q. (2.4) Find the squares of numbers from 1 to 10."
   ]
  },
  {
   "cell_type": "code",
   "execution_count": 13,
   "id": "0af8a53a-6b77-45e9-ae22-b83cd8f87b8c",
   "metadata": {},
   "outputs": [],
   "source": [
    "l =[1,2,3,4,5,6,7,8,9,10]"
   ]
  },
  {
   "cell_type": "code",
   "execution_count": 26,
   "id": "48c945bb-7aba-4e2b-b358-aa50f8b498ec",
   "metadata": {},
   "outputs": [
    {
     "name": "stdout",
     "output_type": "stream",
     "text": [
      "[1, 4, 9, 16, 25, 36, 49, 64, 81, 100]\n"
     ]
    }
   ],
   "source": [
    "l1 = [i**2 for i in l]\n",
    "print(l1)"
   ]
  },
  {
   "cell_type": "code",
   "execution_count": 27,
   "id": "7fcf924f-f519-41a3-994c-0871eac98234",
   "metadata": {},
   "outputs": [
    {
     "data": {
      "text/plain": [
       "range(0, 10)"
      ]
     },
     "execution_count": 27,
     "metadata": {},
     "output_type": "execute_result"
    }
   ],
   "source": [
    "l= range(10)\n",
    "l"
   ]
  },
  {
   "cell_type": "code",
   "execution_count": 29,
   "id": "c4055ec3-89ed-4475-a724-05bf78ea7029",
   "metadata": {},
   "outputs": [
    {
     "data": {
      "text/plain": [
       "[0, 1, 4, 9, 16, 25, 36, 49, 64, 81]"
      ]
     },
     "execution_count": 29,
     "metadata": {},
     "output_type": "execute_result"
    }
   ],
   "source": [
    "l1 = [i**2 for i in l]\n",
    "l1"
   ]
  },
  {
   "cell_type": "code",
   "execution_count": 30,
   "id": "c1361145-a3ac-4804-8c04-93cf52348a7e",
   "metadata": {},
   "outputs": [],
   "source": [
    "# Q. (2.5) Find the cube root of numbers from 1 to 10"
   ]
  },
  {
   "cell_type": "code",
   "execution_count": 31,
   "id": "26752172-ccd5-4b98-8cfd-9bfaaed35309",
   "metadata": {},
   "outputs": [],
   "source": [
    "l = [1,2,3,4,5,6,7,8,9,10]"
   ]
  },
  {
   "cell_type": "code",
   "execution_count": 34,
   "id": "12746ecf-2cac-4397-845e-90759f21ba27",
   "metadata": {},
   "outputs": [
    {
     "data": {
      "text/plain": [
       "[0.3333333333333333,\n",
       " 0.6666666666666666,\n",
       " 1.0,\n",
       " 1.3333333333333333,\n",
       " 1.6666666666666667,\n",
       " 2.0,\n",
       " 2.3333333333333335,\n",
       " 2.6666666666666665,\n",
       " 3.0,\n",
       " 3.3333333333333335]"
      ]
     },
     "execution_count": 34,
     "metadata": {},
     "output_type": "execute_result"
    }
   ],
   "source": [
    "l1 = [i**1/3 for i in l ]\n",
    "l1"
   ]
  },
  {
   "cell_type": "code",
   "execution_count": 35,
   "id": "0f493a9b-b7d3-4952-acdf-2ba72fc00329",
   "metadata": {},
   "outputs": [],
   "source": [
    "# Q.(2.6) Check if a given number is even."
   ]
  },
  {
   "cell_type": "code",
   "execution_count": 39,
   "id": "65b31801-3c0c-445f-acf8-263d106b5dab",
   "metadata": {},
   "outputs": [
    {
     "name": "stdin",
     "output_type": "stream",
     "text": [
      "enter number 7\n"
     ]
    },
    {
     "name": "stdout",
     "output_type": "stream",
     "text": [
      "this is odd no.\n"
     ]
    }
   ],
   "source": [
    "num = int(input(\"enter number\"))\n",
    "if num%2 == 0:\n",
    "          print(\"this is even no.\")\n",
    "else:\n",
    "          print(\"this is odd no.\")\n",
    "          "
   ]
  },
  {
   "cell_type": "code",
   "execution_count": 40,
   "id": "9b6b814b-0a35-4add-b507-3e078130d521",
   "metadata": {},
   "outputs": [],
   "source": [
    "#  Filter odd numbers from the given list. [1,2,3,4,5,6,7,8,9,10]"
   ]
  },
  {
   "cell_type": "code",
   "execution_count": 43,
   "id": "203f8054-aa64-461d-bb63-915de90ddfa7",
   "metadata": {},
   "outputs": [
    {
     "name": "stdout",
     "output_type": "stream",
     "text": [
      "[1, 3, 5, 7, 9]\n"
     ]
    }
   ],
   "source": [
    "l = [1,2,3,4,5,6,7,8,9,10]\n",
    "l1 = [ i for i in l if i%2 !=0]\n",
    "print(l1)"
   ]
  },
  {
   "cell_type": "code",
   "execution_count": 45,
   "id": "657050dc-e3ad-4217-9344-18aa8b4983b7",
   "metadata": {},
   "outputs": [],
   "source": [
    "#  Sort a list of integers into positive and negative integers lists.\n",
    "\n",
    " # [1,2,3,4,5,6,-1,-2,-3,-4,-5,0]"
   ]
  },
  {
   "cell_type": "code",
   "execution_count": 46,
   "id": "33926189-dc3b-4f56-b0b9-07de4ad08420",
   "metadata": {},
   "outputs": [],
   "source": [
    "l = [1,2,3,4,5,6,-1,-2,-3,-4,-5,0]"
   ]
  },
  {
   "cell_type": "code",
   "execution_count": 49,
   "id": "d0414059-2812-4056-bbb2-30554785510f",
   "metadata": {},
   "outputs": [
    {
     "name": "stdout",
     "output_type": "stream",
     "text": [
      "[1, 2, 3, 4, 5, 6]\n"
     ]
    }
   ],
   "source": [
    "positive_l1 = [i for i in l if i > 0]\n",
    "print(positive_l1)"
   ]
  },
  {
   "cell_type": "code",
   "execution_count": 51,
   "id": "93819acb-eaf4-4af2-81f0-0b826ce517e1",
   "metadata": {},
   "outputs": [],
   "source": [
    "negative_l2 = [i for i in l if i<0]\n"
   ]
  },
  {
   "cell_type": "code",
   "execution_count": null,
   "id": "aefec596-45e8-40be-80cc-3391fe35f24e",
   "metadata": {},
   "outputs": [],
   "source": []
  }
 ],
 "metadata": {
  "kernelspec": {
   "display_name": "Python 3 (ipykernel)",
   "language": "python",
   "name": "python3"
  },
  "language_info": {
   "codemirror_mode": {
    "name": "ipython",
    "version": 3
   },
   "file_extension": ".py",
   "mimetype": "text/x-python",
   "name": "python",
   "nbconvert_exporter": "python",
   "pygments_lexer": "ipython3",
   "version": "3.10.8"
  }
 },
 "nbformat": 4,
 "nbformat_minor": 5
}
